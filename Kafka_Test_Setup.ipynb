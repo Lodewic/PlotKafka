{
 "cells": [
  {
   "cell_type": "markdown",
   "metadata": {},
   "source": [
    "# Test kafka stream\n",
    "\n",
    "This notebook is used simply to test whether we can produce and consume data with PyKafka!\n",
    "\n",
    "\n",
    "## Setup\n",
    "\n",
    "  - Installed JDK 64-bit on Windows and added `JAVA_HOME` to the environment variables at the install directory, https://www.oracle.com/technetwork/java/javase/downloads/jdk8-downloads-2133151.html\n",
    "  - Installed Apache ZooKeeper on Windows https://zookeeper.apache.org/releases.html\n",
    "  - Installed Apache Kafka by following official QuickStart https://kafka.apache.org/quickstart\n",
    " \n",
    "To use Apache Kafka we unzip the `kafka_2.11-2.1.0.tgz`, found at the Kafka quickstart. Unzip the contents to a convenient location, e.g. `C:\\kafka`. \n",
    " \n",
    "### How to run\n",
    "\n",
    "Go to the directory where Kafka was installed. Then start Zookeeper first and then start Kafka.\n",
    "\n",
    "```\n",
    "> bin\\windows\\zookeeper-server-start.bat config/zookeeper.properties\n",
    "```\n",
    "\n",
    "```\n",
    "> bin\\windows\\kafka-server-start.bat config/server.properties\n",
    "```\n",
    "\n",
    "### Setup producer/consumer\n",
    "\n",
    "To produce/consume data we first need a topic. Let's create the topic and call it 'test' by running the following in a new terminal/\n",
    "\n",
    "```\n",
    "> bin\\windows\\kafka-topics.bat --create --zookeeper localhost:2181 --replication-factor 1 --partitions 1 --topic test\n",
    "```\n",
    "\n",
    "Then we create a producer. This becomes interactive in the terminal and we can just start writing messages!\n",
    "\n",
    "```\n",
    "> bin/kafka-console-producer.sh --broker-list localhost:9092 --topic test\n",
    "This is a message\n",
    "This is another message\n",
    "```"
   ]
  },
  {
   "cell_type": "code",
   "execution_count": 7,
   "metadata": {},
   "outputs": [
    {
     "name": "stdout",
     "output_type": "stream",
     "text": [
      "Untitled.ipynb\n"
     ]
    }
   ],
   "source": []
  },
  {
   "cell_type": "code",
   "execution_count": 5,
   "metadata": {},
   "outputs": [
    {
     "name": "stdout",
     "output_type": "stream",
     "text": [
      "b'kafkatestkafkatestkafkatestkafkatestkafkatestkafkatestkafkatestkafkatestkafkatestkafkatestkafkatestk'\n",
      "100\n"
     ]
    }
   ],
   "source": [
    "msg_count = 1000000\n",
    "msg_size = 100\n",
    "msg_payload = ('kafkatest' * 20).encode()[:msg_size]\n",
    "print(msg_payload)\n",
    "print(len(msg_payload))\n"
   ]
  },
  {
   "cell_type": "code",
   "execution_count": 6,
   "metadata": {},
   "outputs": [],
   "source": [
    "\n",
    "bootstrap_servers = 'localhost:9092' # change if your brokers live else where"
   ]
  },
  {
   "cell_type": "code",
   "execution_count": 7,
   "metadata": {},
   "outputs": [],
   "source": [
    "import time\n",
    "\n",
    "producer_timings = {}\n",
    "consumer_timings = {}"
   ]
  },
  {
   "cell_type": "code",
   "execution_count": 8,
   "metadata": {},
   "outputs": [],
   "source": [
    "def calculate_thoughput(timing, n_messages=1000000, msg_size=100):\n",
    "    print(\"Processed {0} messsages in {1:.2f} seconds\".format(n_messages, timing))\n",
    "    print(\"{0:.2f} MB/s\".format((msg_size * n_messages) / timing / (1024*1024)))\n",
    "    print(\"{0:.2f} Msgs/s\".format(n_messages / timing))"
   ]
  },
  {
   "cell_type": "code",
   "execution_count": 9,
   "metadata": {},
   "outputs": [],
   "source": [
    "from pykafka import KafkaClient\n",
    "\n",
    "def pykafka_producer_performance(use_rdkafka=False):\n",
    "    \n",
    "    # Setup client\n",
    "    client = KafkaClient(hosts=bootstrap_servers)\n",
    "    topic = client.topics[b'test']\n",
    "    producer = topic.get_producer(use_rdkafka=use_rdkafka)\n",
    "\n",
    "    msgs_produced = 0\n",
    "    produce_start = time.time()\n",
    "    for i in range(msg_count):\n",
    "        # Start producing\n",
    "        producer.produce(msg_payload)\n",
    "                     \n",
    "    producer.stop() # Will flush background queue\n",
    " \n",
    "    return time.time() - produce_start"
   ]
  },
  {
   "cell_type": "code",
   "execution_count": 10,
   "metadata": {},
   "outputs": [
    {
     "name": "stdout",
     "output_type": "stream",
     "text": [
      "Processed 1000000 messsages in 21.73 seconds\n",
      "4.39 MB/s\n",
      "46012.58 Msgs/s\n"
     ]
    }
   ],
   "source": [
    "producer_timings['pykafka_producer'] = pykafka_producer_performance()\n",
    "calculate_thoughput(producer_timings['pykafka_producer'])\n"
   ]
  },
  {
   "cell_type": "code",
   "execution_count": null,
   "metadata": {},
   "outputs": [],
   "source": []
  }
 ],
 "metadata": {
  "kernelspec": {
   "display_name": "Python 3",
   "language": "python",
   "name": "python3"
  },
  "language_info": {
   "codemirror_mode": {
    "name": "ipython",
    "version": 3
   },
   "file_extension": ".py",
   "mimetype": "text/x-python",
   "name": "python",
   "nbconvert_exporter": "python",
   "pygments_lexer": "ipython3",
   "version": "3.6.7"
  }
 },
 "nbformat": 4,
 "nbformat_minor": 2
}
